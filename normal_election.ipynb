{
 "cells": [
  {
   "cell_type": "code",
   "id": "initial_id",
   "metadata": {
    "collapsed": true,
    "ExecuteTime": {
     "end_time": "2025-06-01T16:28:16.637367Z",
     "start_time": "2025-06-01T16:28:16.629816Z"
    }
   },
   "source": [
    "import pandas as pd\n",
    "import matplotlib.pyplot as plt\n",
    "import numpy as np"
   ],
   "outputs": [],
   "execution_count": 10
  },
  {
   "metadata": {
    "ExecuteTime": {
     "end_time": "2025-06-01T16:28:16.899933Z",
     "start_time": "2025-06-01T16:28:16.690763Z"
    }
   },
   "cell_type": "code",
   "source": [
    "participation = pd.read_csv('data_raw/bfs_national_council_election_participation_2019.csv', sep=';')\n",
    "results = pd.read_csv('data_raw/bfs_national_council_election_results_2019.csv', sep=';')\n",
    "lists = pd.read_csv('data_raw/bfs_national_council_election_lists_2019.csv', sep=';')"
   ],
   "id": "65917e1e87298ea5",
   "outputs": [],
   "execution_count": 11
  },
  {
   "metadata": {
    "ExecuteTime": {
     "end_time": "2025-06-01T16:28:17.210844Z",
     "start_time": "2025-06-01T16:28:17.199363Z"
    }
   },
   "cell_type": "code",
   "source": [
    "# --- CHOOSE ELECTION YEAR ---\n",
    "ELECTION_YEAR = 2019 # Modify this for other election years\n",
    "\n",
    "# Filter data for the chosen election year\n",
    "participation_year = participation[participation['wahl_jahr'] == ELECTION_YEAR].copy()\n",
    "results_year = results[results['wahl_jahr'] == ELECTION_YEAR].copy()\n",
    "lists_year_original = lists[lists['wahl_jahr'] == ELECTION_YEAR].copy() # Keep original lists data separate\n",
    "\n",
    "print(f\"--- Data for Election Year: {ELECTION_YEAR} ---\")\n",
    "\n",
    "# Define seats per canton. IMPORTANT: Ensure this is correct for ELECTION_YEAR.\n",
    "# Keys are 'kanton_nummer'. This is for the Swiss National Council.\n",
    "seats_per_canton_dict = {\n",
    "    1: 35, 2: 24, 3: 9, 4: 1, 5: 4, 6: 1, 7: 1, 8: 1, 9: 3, 10: 7,\n",
    "    11: 6, 12: 5, 13: 7, 14: 2, 15: 1, 16: 1, 17: 12, 18: 5, 19: 16,\n",
    "    20: 6, 21: 8, 22: 19, 23: 8, 24: 4, 25: 12, 26: 2\n",
    "}\n",
    "print(f\"Total National Council seats to be distributed: {sum(seats_per_canton_dict.values())}\")"
   ],
   "id": "4b7cce7b65d7319c",
   "outputs": [
    {
     "name": "stdout",
     "output_type": "stream",
     "text": [
      "--- Data for Election Year: 2019 ---\n",
      "Total National Council seats to be distributed: 200\n"
     ]
    }
   ],
   "execution_count": 12
  },
  {
   "metadata": {
    "ExecuteTime": {
     "end_time": "2025-06-01T16:28:17.330223Z",
     "start_time": "2025-06-01T16:28:17.317386Z"
    }
   },
   "cell_type": "code",
   "source": [
    "def apply_100_percent_turnout_simulation(current_lists_df, results_df, participation_df):\n",
    "    \"\"\"\n",
    "    Adjusts list votes to simulate 100% voter turnout at the commune level.\n",
    "    The preferences of actual voters in each commune are extrapolated to non-voters\n",
    "    in that same commune. The total adjusted votes for a party in a canton are then\n",
    "    redistributed among that party's lists proportionally to their original vote shares.\n",
    "\n",
    "    Args:\n",
    "        current_lists_df (pd.DataFrame): The DataFrame with list data for the election year.\n",
    "        results_df (pd.DataFrame): DataFrame with party results at the commune level.\n",
    "        participation_df (pd.DataFrame): DataFrame with voter participation data at the commune level.\n",
    "\n",
    "    Returns:\n",
    "        pd.DataFrame: A new DataFrame based on current_lists_df with an updated 'votes_to_use' column.\n",
    "    \"\"\"\n",
    "    print(\"\\n--- Applying 100% Turnout Simulation (commune-level adjustment) ---\")\n",
    "    # Merge commune-level party results with participation data\n",
    "    commune_votes_details = results_df.merge(\n",
    "        participation_df[['gemeinde_nummer', 'kanton_nummer', 'wahlberechtigte', 'gueltige_wahlzettel']],\n",
    "        on=['gemeinde_nummer', 'kanton_nummer'],\n",
    "        how='left'\n",
    "    )\n",
    "    commune_votes_details.dropna(subset=['wahlberechtigte', 'gueltige_wahlzettel'], inplace=True)\n",
    "\n",
    "    # Calculate party votes as if all eligible voters in a commune voted\n",
    "    commune_votes_details['adjusted_stimmen_partei'] = np.where(\n",
    "        commune_votes_details['gueltige_wahlzettel'] > 0,\n",
    "        (commune_votes_details['stimmen_partei'] / commune_votes_details['gueltige_wahlzettel']) * commune_votes_details['wahlberechtigte'],\n",
    "        0\n",
    "    ).round() # Rounding here to avoid tiny fractional votes before summing\n",
    "\n",
    "    # Sum these adjusted party votes at the cantonal level\n",
    "    canton_party_adjusted_total_votes = commune_votes_details.groupby(\n",
    "        ['kanton_nummer', 'partei_id']\n",
    "    )['adjusted_stimmen_partei'].sum().reset_index()\n",
    "\n",
    "    # Get the sum of original list votes for each party in each canton from the input list data\n",
    "    original_party_canton_list_sum = current_lists_df.groupby(\n",
    "        ['kanton_nummer', 'partei_id']\n",
    "    )['stimmen_liste'].sum().reset_index().rename(columns={'stimmen_liste': 'original_total_list_stimmen_for_party_canton'})\n",
    "\n",
    "    # Work on a copy for modification\n",
    "    simulated_lists_df = current_lists_df.copy()\n",
    "\n",
    "    # Merge these totals into the lists_votes_processed DataFrame\n",
    "    simulated_lists_df = simulated_lists_df.merge(\n",
    "        canton_party_adjusted_total_votes, on=['kanton_nummer', 'partei_id'], how='left'\n",
    "    )\n",
    "    simulated_lists_df = simulated_lists_df.merge(\n",
    "        original_party_canton_list_sum, on=['kanton_nummer', 'partei_id'], how='left'\n",
    "    )\n",
    "    simulated_lists_df['adjusted_stimmen_partei'] = simulated_lists_df['adjusted_stimmen_partei'].fillna(0)\n",
    "    simulated_lists_df['original_total_list_stimmen_for_party_canton'] = simulated_lists_df['original_total_list_stimmen_for_party_canton'].fillna(0)\n",
    "\n",
    "    # Distribute the total adjusted party votes (for a canton) among its lists proportionally\n",
    "    simulated_lists_df['votes_to_use'] = np.where(\n",
    "        simulated_lists_df['original_total_list_stimmen_for_party_canton'] > 0,\n",
    "        (simulated_lists_df['stimmen_liste'] / simulated_lists_df['original_total_list_stimmen_for_party_canton']) * simulated_lists_df['adjusted_stimmen_partei'],\n",
    "        0\n",
    "    ).round().astype(int) # Final votes should be integers\n",
    "\n",
    "    return simulated_lists_df\n",
    "\n",
    "\n",
    "# Initialize lists_votes_processed with original list votes\n",
    "lists_votes_processed = lists_year_original.copy()\n",
    "lists_votes_processed['votes_to_use'] = lists_votes_processed['stimmen_liste']\n",
    "print(f\"\\n--- Using original 'stimmen_liste' for vote allocation. ---\")\n",
    "\n",
    "# --- To activate 100% turnout simulation, uncomment the following line: ---\n",
    "# lists_votes_processed = apply_100_percent_turnout_simulation(lists_year_original, results_year, participation_year)\n",
    "\n",
    "\n",
    "# Prepare identifiers for list connections and unique lists\n",
    "# NaN values are replaced with unique strings to treat them as distinct \"no connection\" groups\n",
    "lists_votes_processed['lv_group'] = lists_votes_processed['liste_verbindung'].fillna(\n",
    "    pd.Series(lists_votes_processed.index).apply(lambda x: f'no_lv_{x}')\n",
    ")\n",
    "lists_votes_processed['luv_group'] = lists_votes_processed['liste_unterlistenverbindung'].fillna(\n",
    "    pd.Series(lists_votes_processed.index).apply(lambda x: f'no_luv_{x}')\n",
    ")\n",
    "lists_votes_processed['list_unique_id'] = lists_votes_processed['kanton_nummer'].astype(str) + \"_\" + lists_votes_processed['liste_nummer_bfs'].astype(str)"
   ],
   "id": "86c2244f962c494e",
   "outputs": [
    {
     "name": "stdout",
     "output_type": "stream",
     "text": [
      "\n",
      "--- Using original 'stimmen_liste' for vote allocation. ---\n"
     ]
    }
   ],
   "execution_count": 13
  },
  {
   "metadata": {
    "ExecuteTime": {
     "end_time": "2025-06-01T16:28:17.500167Z",
     "start_time": "2025-06-01T16:28:17.443290Z"
    }
   },
   "cell_type": "code",
   "source": [
    "def allocate_seats_dhondt(entity_votes_dict, num_seats_to_allocate):\n",
    "    \"\"\"\n",
    "    Allocates seats using the D'Hondt method.\n",
    "    Divides votes by successive integers (1, 2, 3, ...). Tends to favor larger parties.\n",
    "\n",
    "    Args:\n",
    "        entity_votes_dict (dict): {'entity_id': votes}.\n",
    "        num_seats_to_allocate (int): Total seats to distribute.\n",
    "\n",
    "    Returns:\n",
    "        dict: {'entity_id': allocated_seats}.\n",
    "    \"\"\"\n",
    "    if num_seats_to_allocate == 0 or not entity_votes_dict or sum(entity_votes_dict.values()) == 0:\n",
    "        return {entity_id: 0 for entity_id in entity_votes_dict}\n",
    "\n",
    "    allocated_seats = {entity_id: 0 for entity_id in entity_votes_dict}\n",
    "    quotients = []\n",
    "    for entity_id, votes in entity_votes_dict.items():\n",
    "        if votes > 0:\n",
    "            for i in range(1, num_seats_to_allocate + 20):\n",
    "                quotients.append({'id': entity_id, 'quotient': votes / i, 'original_votes': votes})\n",
    "\n",
    "    quotients_df = pd.DataFrame(quotients).sort_values(by=['quotient', 'original_votes'], ascending=[False, False])\n",
    "\n",
    "    for i in range(min(num_seats_to_allocate, len(quotients_df))):\n",
    "        allocated_seats[quotients_df.iloc[i]['id']] += 1\n",
    "    return allocated_seats\n",
    "\n",
    "def allocate_seats_sainte_lague(entity_votes_dict, num_seats_to_allocate):\n",
    "    \"\"\"\n",
    "    Allocates seats using the Sainte-Laguë method (standard version).\n",
    "    Divides votes by successive odd integers (1, 3, 5, ...). More proportional than D'Hondt.\n",
    "\n",
    "    Args:\n",
    "        entity_votes_dict (dict): {'entity_id': votes}.\n",
    "        num_seats_to_allocate (int): Total seats to distribute.\n",
    "\n",
    "    Returns:\n",
    "        dict: {'entity_id': allocated_seats}.\n",
    "    \"\"\"\n",
    "    if num_seats_to_allocate == 0 or not entity_votes_dict or sum(entity_votes_dict.values()) == 0:\n",
    "        return {entity_id: 0 for entity_id in entity_votes_dict}\n",
    "\n",
    "    allocated_seats = {entity_id: 0 for entity_id in entity_votes_dict}\n",
    "    quotients = []\n",
    "    for entity_id, votes in entity_votes_dict.items():\n",
    "        if votes > 0:\n",
    "            for i in range(num_seats_to_allocate + 20):\n",
    "                divisor = 2 * i + 1\n",
    "                quotients.append({'id': entity_id, 'quotient': votes / divisor, 'original_votes': votes})\n",
    "\n",
    "    quotients_df = pd.DataFrame(quotients).sort_values(by=['quotient', 'original_votes'], ascending=[False, False])\n",
    "\n",
    "    for i in range(min(num_seats_to_allocate, len(quotients_df))):\n",
    "        allocated_seats[quotients_df.iloc[i]['id']] += 1\n",
    "    return allocated_seats\n",
    "\n",
    "# --- Select the seat allocation function ---\n",
    "seat_allocator = allocate_seats_dhondt\n",
    "# seat_allocator = allocate_seats_sainte_lague\n",
    "# Add other custom allocation functions here and assign to seat_allocator\n",
    "\n",
    "print(f\"Using {seat_allocator.__name__} for seat allocation.\")"
   ],
   "id": "a377e958823b67ad",
   "outputs": [
    {
     "name": "stdout",
     "output_type": "stream",
     "text": [
      "Using allocate_seats_dhondt for seat allocation.\n"
     ]
    }
   ],
   "execution_count": 14
  },
  {
   "metadata": {
    "ExecuteTime": {
     "end_time": "2025-06-01T16:28:17.999589Z",
     "start_time": "2025-06-01T16:28:17.597289Z"
    }
   },
   "cell_type": "code",
   "source": [
    "# This cell performs the hierarchical seat allocation within each canton based on selected method and votes.\n",
    "\n",
    "final_seat_allocations_list = [] # Stores the final seat count for each winning list\n",
    "\n",
    "for k_num, seats_in_canton in seats_per_canton_dict.items():\n",
    "    if seats_in_canton == 0: continue # Skip cantons with no seats\n",
    "\n",
    "    canton_lists_data = lists_votes_processed[lists_votes_processed['kanton_nummer'] == k_num].copy()\n",
    "    if canton_lists_data.empty: continue\n",
    "\n",
    "    # Level 1: Allocate seats to main list connections (lv_group)\n",
    "    main_conn_votes = canton_lists_data.groupby('lv_group')['votes_to_use'].sum().to_dict()\n",
    "    seats_for_main_conn = seat_allocator(main_conn_votes, seats_in_canton)\n",
    "\n",
    "    # Level 2: Allocate seats within each winning main list connection\n",
    "    for lv_id, seats_won_by_lv in seats_for_main_conn.items():\n",
    "        if seats_won_by_lv == 0: continue\n",
    "        lists_in_lv = canton_lists_data[canton_lists_data['lv_group'] == lv_id]\n",
    "\n",
    "        sub_conn_votes = lists_in_lv.groupby('luv_group')['votes_to_use'].sum().to_dict()\n",
    "        seats_for_sub_conn = seat_allocator(sub_conn_votes, seats_won_by_lv)\n",
    "\n",
    "        # Level 3: Allocate seats within each winning sub-list connection to individual lists\n",
    "        for luv_id, seats_won_by_luv in seats_for_sub_conn.items():\n",
    "            if seats_won_by_luv == 0: continue\n",
    "            lists_in_luv = lists_in_lv[lists_in_lv['luv_group'] == luv_id]\n",
    "\n",
    "            individual_list_votes = lists_in_luv.set_index('list_unique_id')['votes_to_use'].to_dict()\n",
    "            seats_for_lists = seat_allocator(individual_list_votes, seats_won_by_luv)\n",
    "\n",
    "            for list_uid, final_seats in seats_for_lists.items():\n",
    "                if final_seats > 0:\n",
    "                    original_row = canton_lists_data[canton_lists_data['list_unique_id'] == list_uid].iloc[0]\n",
    "                    final_seat_allocations_list.append({\n",
    "                        'kanton_nummer': k_num, 'kanton_bezeichnung': original_row['kanton_bezeichnung'],\n",
    "                        'liste_nummer_bfs': original_row['liste_nummer_bfs'],\n",
    "                        'liste_bezeichnung': original_row['liste_bezeichnung'],\n",
    "                        'partei_id': original_row['partei_id'],\n",
    "                        'partei_bezeichnung_de': original_row['partei_bezeichnung_de'],\n",
    "                        'seats_won_calculated': final_seats\n",
    "                    })\n",
    "\n",
    "calculated_seats_df = pd.DataFrame(final_seat_allocations_list)"
   ],
   "id": "c0ebd56dc1d0422d",
   "outputs": [],
   "execution_count": 15
  },
  {
   "metadata": {
    "ExecuteTime": {
     "end_time": "2025-06-01T16:28:18.350772Z",
     "start_time": "2025-06-01T16:28:18.006633Z"
    }
   },
   "cell_type": "code",
   "source": [
    "# This cell aggregates the calculated seats by party nationally and plots the distribution.\n",
    "\n",
    "if calculated_seats_df.empty:\n",
    "    print(\"\\n--- National Results: No seats calculated. ---\")\n",
    "else:\n",
    "    national_party_seats_calc = calculated_seats_df.groupby(\n",
    "        ['partei_id', 'partei_bezeichnung_de']\n",
    "    )['seats_won_calculated'].sum().reset_index().sort_values(by='seats_won_calculated', ascending=False)\n",
    "\n",
    "    print(\"\\n--- National Seat Distribution (Calculated) ---\")\n",
    "    print(national_party_seats_calc[['partei_bezeichnung_de', 'seats_won_calculated']].head(15))\n",
    "\n",
    "    total_calc_seats = national_party_seats_calc['seats_won_calculated'].sum()\n",
    "    expected_total_seats = sum(seats_per_canton_dict.values())\n",
    "    print(f\"\\nTotal seats allocated (calculated): {total_calc_seats} / {expected_total_seats}\")\n",
    "    if total_calc_seats != expected_total_seats:\n",
    "        print(\"WARNING: Mismatch in total allocated seats versus expected seats!\")\n",
    "\n",
    "    if not national_party_seats_calc.empty:\n",
    "        plot_title = (f\"Calculated National Council Seats {ELECTION_YEAR} (Total: {total_calc_seats})\\n\"\n",
    "                      f\"Method: {seat_allocator.__name__}\")\n",
    "        if 'adjusted_stimmen_partei' in lists_votes_processed.columns: # Check if simulation was run\n",
    "            if not lists_votes_processed['votes_to_use'].equals(lists_votes_processed['stimmen_liste']):\n",
    "                plot_title += \" (100% Turnout Simulated)\"\n",
    "\n",
    "        national_party_seats_calc.set_index('partei_bezeichnung_de')['seats_won_calculated'].sort_values(ascending=True).plot(\n",
    "            kind='barh',\n",
    "            figsize=(10, 7),\n",
    "            title=plot_title\n",
    "        ).set_xlabel(\"Number of Seats Won\")\n",
    "        plt.tight_layout()\n",
    "        plt.show()"
   ],
   "id": "77b0cbd4330d3c10",
   "outputs": [
    {
     "name": "stdout",
     "output_type": "stream",
     "text": [
      "\n",
      "--- National Seat Distribution (Calculated) ---\n",
      "   partei_bezeichnung_de  seats_won_calculated\n",
      "3                    SVP                    53\n",
      "2                     SP                    39\n",
      "0                    FDP                    28\n",
      "7                    GPS                    28\n",
      "1                    CVP                    25\n",
      "10                   GLP                    16\n",
      "11                   BDP                     3\n",
      "5                    EVP                     3\n",
      "6               PdA/Sol.                     2\n",
      "4                    LPS                     1\n",
      "9                   Lega                     1\n",
      "8                    EDU                     1\n",
      "\n",
      "Total seats allocated (calculated): 200 / 200\n"
     ]
    },
    {
     "data": {
      "text/plain": [
       "<Figure size 1000x700 with 1 Axes>"
      ],
      "image/png": "[encoded data removed]"
     },
     "metadata": {},
     "output_type": "display_data"
    }
   ],
   "execution_count": 16
  },
  {
   "metadata": {
    "ExecuteTime": {
     "end_time": "2025-06-01T16:28:18.465259Z",
     "start_time": "2025-06-01T16:28:18.448137Z"
    }
   },
   "cell_type": "code",
   "source": [
    "# This cell compares the calculated seat distribution with the actual results\n",
    "# from the 'anzahl_gewaehlte' column in the input 'lists_df'.\n",
    "\n",
    "if calculated_seats_df.empty:\n",
    "    print(\"\\n--- Comparison: No calculated seats to compare. ---\")\n",
    "else:\n",
    "    # Use original lists_year_original for actuals, as lists_votes_processed might be simulated\n",
    "    actual_seats_from_lists = lists_year_original[lists_year_original['anzahl_gewaehlte'] > 0].groupby(\n",
    "        ['partei_id', 'partei_bezeichnung_de']\n",
    "    )['anzahl_gewaehlte'].sum().reset_index().rename(columns={'anzahl_gewaehlte': 'seats_won_actual'})\n",
    "\n",
    "    comparison_df = pd.merge(\n",
    "        national_party_seats_calc[['partei_id', 'partei_bezeichnung_de', 'seats_won_calculated']],\n",
    "        actual_seats_from_lists[['partei_id', 'partei_bezeichnung_de', 'seats_won_actual']],\n",
    "        on=['partei_id', 'partei_bezeichnung_de'],\n",
    "        how='outer'\n",
    "    ).fillna(0)\n",
    "\n",
    "    comparison_df['seats_won_calculated'] = comparison_df['seats_won_calculated'].astype(int)\n",
    "    comparison_df['seats_won_actual'] = comparison_df['seats_won_actual'].astype(int)\n",
    "    comparison_df['difference'] = comparison_df['seats_won_calculated'] - comparison_df['seats_won_actual']\n",
    "\n",
    "    print(\"\\n--- Comparison: Calculated vs. Actual Seats (from 'anzahl_gewaehlte') ---\")\n",
    "    if (comparison_df['difference'] == 0).all():\n",
    "        print(\"SUCCESS: Calculated seat distribution perfectly matches actuals from 'anzahl_gewaehlte'.\")\n",
    "        print(comparison_df[['partei_bezeichnung_de', 'seats_won_calculated', 'seats_won_actual']].head(10))\n",
    "    else:\n",
    "        print(\"Discrepancies found between calculated and actual seats:\")\n",
    "        print(comparison_df[['partei_bezeichnung_de', 'seats_won_calculated', 'seats_won_actual', 'difference']])\n",
    "\n",
    "    total_actual_seats = comparison_df['seats_won_actual'].sum()\n",
    "    print(f\"Total actual seats from 'anzahl_gewaehlte': {total_actual_seats}\")"
   ],
   "id": "fdab8cf0f3a6954d",
   "outputs": [
    {
     "name": "stdout",
     "output_type": "stream",
     "text": [
      "\n",
      "--- Comparison: Calculated vs. Actual Seats (from 'anzahl_gewaehlte') ---\n",
      "SUCCESS: Calculated seat distribution perfectly matches actuals from 'anzahl_gewaehlte'.\n",
      "  partei_bezeichnung_de  seats_won_calculated  seats_won_actual\n",
      "0                   FDP                    28                28\n",
      "1                   CVP                    25                25\n",
      "2                    SP                    39                39\n",
      "3                   SVP                    53                53\n",
      "4                   LPS                     1                 1\n",
      "5                   EVP                     3                 3\n",
      "6              PdA/Sol.                     2                 2\n",
      "7                   GPS                    28                28\n",
      "8                   EDU                     1                 1\n",
      "9                  Lega                     1                 1\n",
      "Total actual seats from 'anzahl_gewaehlte': 200\n"
     ]
    }
   ],
   "execution_count": 17
  }
 ],
 "metadata": {
  "kernelspec": {
   "display_name": "Python 3",
   "language": "python",
   "name": "python3"
  },
  "language_info": {
   "codemirror_mode": {
    "name": "ipython",
    "version": 2
   },
   "file_extension": ".py",
   "mimetype": "text/x-python",
   "name": "python",
   "nbconvert_exporter": "python",
   "pygments_lexer": "ipython2",
   "version": "2.7.6"
  }
 },
 "nbformat": 4,
 "nbformat_minor": 5
}
